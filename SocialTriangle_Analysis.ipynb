{
  "cells": [
    {
      "attachments": {},
      "cell_type": "markdown",
      "metadata": {
        "id": "AsSA0dIMNznB"
      },
      "source": [
        "# Social Triangle Using Apache Spark\n",
        "\n",
        "The goal of this notebook is to implement a Social Triangle algorithm using Spark. For example, given the email dataset, we will list all \"reciprocal\" relationships in the company. More specifically:\n",
        "\n",
        "If A emails B and B emails A, then A and B is *reciprocal*.\n",
        "\n",
        "If A emails B but B doesn’t email A, then A and B is *directed*.\n",
        "\n",
        "**Dataset:** We will use a subset of the open [Enron Email Dataset](https://www.cs.cmu.edu/~./enron/ \"Enron Email Dataset\"), which contains approximately 10,000 simplified email headers from the Enron Corporation. A subset of the data is available as **enron_mails_small.csv**\n",
        "\n",
        "The file contains 3 columns *Date*, *From*, and *To*. Their description is as follows:\n",
        "\n",
        "|Column name|Description|\n",
        "|--|--|\n",
        "|Date |The date and time of the email, in the format YYYY-MM-DD hh-mm-ss, <br />e.g. \"1998-10-30 07:43:00\" |\n",
        "|From |The sender email address, <br />e.g. \"mark.taylor@enron.com\" |\n",
        "|To | A list of recipients' email addresses separated by semicolons ';', <br />e.g. \"jennifer.fraser@enron.com;jeffrey.hodge@enron.com\" |\n",
        "\n",
        "Note that, we only care about users employed by Enron, i.e. only relationships where email addresses end with *'@enron.com'*.\n",
        "\n",
        "The expected output is also provided below. For each reciprocal relationship, please output a tuple consisting of two strings. The first one is always **'reciprocal'**. And the second one is a string showing the name of the two person in the following format: **'Jane Doe : John Doe'**. The names should be presented in the lexical order, i.e. there will not be a 'John Doe : Jane Doe' since 'Jane' is ordered before 'John.\n",
        "\n",
        "Though the dataset only contains email addresses, not actual names, we're assuming that the email aliases were created based on their name. For example:\n",
        "\n",
        "|Email Address|Converted Name|\n",
        "|--|--|\n",
        "|mark.taylor@enron.com|Mark Taylor|\n",
        "|alan.aronowitz@enron.com|Alan Aronowitz|\n",
        "|marc.r.cutler@enron.com|Marc R Cutler|\n",
        "|hugh@enron.com|Hugh|"
      ]
    },
    {
      "attachments": {},
      "cell_type": "markdown",
      "metadata": {
        "id": "P_5RV35CtCaB"
      },
      "source": [
        "## Environment Setup"
      ]
    },
    {
      "cell_type": "code",
      "execution_count": null,
      "metadata": {
        "colab": {
          "base_uri": "https://localhost:8080/"
        },
        "id": "bjzjcPWYnHLr",
        "outputId": "ba646ad2-c4ca-48b7-dd34-ec0a669eb3fe"
      },
      "outputs": [
        {
          "name": "stdout",
          "output_type": "stream",
          "text": [
            "\u001b[2K     \u001b[90m━━━━━━━━━━━━━━━━━━━━━━━━━━━━━━━━━━━━━━━\u001b[0m \u001b[32m281.4/281.4 MB\u001b[0m \u001b[31m4.6 MB/s\u001b[0m eta \u001b[36m0:00:00\u001b[0m\n",
            "\u001b[?25h  Preparing metadata (setup.py) ... \u001b[?25l\u001b[?25hdone\n",
            "\u001b[2K     \u001b[90m━━━━━━━━━━━━━━━━━━━━━━━━━━━━━━━━━━━━━━\u001b[0m \u001b[32m199.7/199.7 KB\u001b[0m \u001b[31m11.0 MB/s\u001b[0m eta \u001b[36m0:00:00\u001b[0m\n",
            "\u001b[?25h  Building wheel for pyspark (setup.py) ... \u001b[?25l\u001b[?25hdone\n"
          ]
        },
        {
          "data": {
            "text/plain": []
          },
          "execution_count": 1,
          "metadata": {},
          "output_type": "execute_result"
        }
      ],
      "source": [
        "%%shell\n",
        "gdown --quiet 1ay5DcH64Qao1HR7CQnR6Cl1hbBMgGqXj\n",
        "gdown --quiet 13BozEl3JtS43Xuu2Ek9IwMULpWjPH4VC\n",
        "gdown --quiet 1It6GP8O2JqkmUtZKbYp1kpwpuwOXlLps\n",
        "pip --quiet install pyspark"
      ]
    },
    {
      "cell_type": "code",
      "execution_count": null,
      "metadata": {
        "colab": {
          "base_uri": "https://localhost:8080/",
          "height": 216
        },
        "id": "XHKq10WXnZl7",
        "outputId": "da8d9975-bd41-42f8-e000-bf94bf3959b1"
      },
      "outputs": [
        {
          "data": {
            "text/html": [
              "\n",
              "            <div>\n",
              "                <p><b>SparkSession - in-memory</b></p>\n",
              "                \n",
              "        <div>\n",
              "            <p><b>SparkContext</b></p>\n",
              "\n",
              "            <p><a href=\"http://b16d060762c2:4040\">Spark UI</a></p>\n",
              "\n",
              "            <dl>\n",
              "              <dt>Version</dt>\n",
              "                <dd><code>v3.3.2</code></dd>\n",
              "              <dt>Master</dt>\n",
              "                <dd><code>local[*]</code></dd>\n",
              "              <dt>AppName</dt>\n",
              "                <dd><code>pyspark-shell</code></dd>\n",
              "            </dl>\n",
              "        </div>\n",
              "        \n",
              "            </div>\n",
              "        "
            ],
            "text/plain": [
              "<pyspark.sql.session.SparkSession at 0x7fc79d5f1160>"
            ]
          },
          "execution_count": 2,
          "metadata": {},
          "output_type": "execute_result"
        }
      ],
      "source": [
        "ENRON_FN = 'enron_mails_small.csv'\n",
        "\n",
        "import pyspark\n",
        "from pyspark.sql import SparkSession\n",
        "sc = pyspark.SparkContext.getOrCreate()\n",
        "spark = SparkSession.builder.getOrCreate()\n",
        "spark"
      ]
    },
    {
      "attachments": {},
      "cell_type": "markdown",
      "metadata": {
        "id": "iaEgcHgqpW9J"
      },
      "source": [
        "### Using RDD"
      ]
    },
    {
      "cell_type": "code",
      "execution_count": null,
      "metadata": {
        "colab": {
          "base_uri": "https://localhost:8080/",
          "height": 34
        },
        "id": "E5FjP-_hv9uM",
        "outputId": "4feaebcb-71ec-474d-f654-bf59afb5594a"
      },
      "outputs": [
        {
          "data": {
            "text/plain": [
              "[(0, 'Date'), (1, 'From'), (2, 'To')]"
            ]
          },
          "metadata": {},
          "output_type": "display_data"
        }
      ],
      "source": [
        "#loading the enron data\n",
        "enron = sc.textFile(ENRON_FN, use_unicode=True).cache()\n",
        "#display header\n",
        "enronHeader = enron.first().split(',')\n",
        "display(list(enumerate(enronHeader)))"
      ]
    },
    {
      "cell_type": "code",
      "execution_count": null,
      "metadata": {
        "colab": {
          "base_uri": "https://localhost:8080/"
        },
        "id": "JVbuYhu-kvNP",
        "outputId": "f5d3f46d-6767-41fe-f2aa-37da81f2b76f"
      },
      "outputs": [
        {
          "data": {
            "text/plain": [
              "[('mark.taylor@enron.com', 'marc.r.cutler@bankamerica.com'),\n",
              " ('mark.taylor@enron.com', 'marc.r.cutler@bankamerica.com'),\n",
              " ('mark.taylor@enron.com', 'shari.stack@enron.com'),\n",
              " ('mark.taylor@enron.com', 'marc.r.cutler@bankamerica.com'),\n",
              " ('mark.taylor@enron.com', 'yao.apasu@enron.com')]"
            ]
          },
          "execution_count": 18,
          "metadata": {},
          "output_type": "execute_result"
        }
      ],
      "source": [
        "#generator function to extract the to and from data from the entron file \n",
        "def extractEron(partId,rows):\n",
        "  #skip if header\n",
        "  if partId == 0:\n",
        "    next(rows)\n",
        "  #extracting the to and from data\n",
        "  import csv \n",
        "  for row in csv.reader(rows):\n",
        "    yield (row[1],row[2])\n",
        "\n",
        "enron_data = enron.mapPartitionsWithIndex(extractEron)\n",
        "enron_data.take(5)\n"
      ]
    },
    {
      "cell_type": "code",
      "execution_count": null,
      "metadata": {
        "id": "_mCXWDi1n_VA"
      },
      "outputs": [],
      "source": [
        "#filter function for returning only enron employees \n",
        "def enron_filter(values):\n",
        "  return list(filter(lambda x: '@enron.com' in x, values))"
      ]
    },
    {
      "cell_type": "code",
      "execution_count": null,
      "metadata": {
        "colab": {
          "base_uri": "https://localhost:8080/"
        },
        "id": "P74dzWK3th7b",
        "outputId": "88977381-c580-47be-a883-c8cfc69000ac"
      },
      "outputs": [
        {
          "data": {
            "text/plain": [
              "['bryan.hull@enron.com', 'b.palmer@enron.com', 'test.test@enron.com']"
            ]
          },
          "execution_count": 20,
          "metadata": {},
          "output_type": "execute_result"
        }
      ],
      "source": [
        "#testing enron_filter\n",
        "test = ('phillip.love@enron.com',{'b.palmer@enron.com','bryan.hull@enron.com','ed.dowling@msl.redstone.army.mil','test.test@enron.com'})\n",
        "\n",
        "enron_filter(test[1])"
      ]
    },
    {
      "cell_type": "code",
      "execution_count": null,
      "metadata": {
        "id": "Mc_ZZeQyxGU8"
      },
      "outputs": [],
      "source": [
        "#function to turn a tuple of from and list of to, to tuples of from and to for every to \n",
        "def list_to_tuples(tup):\n",
        "  fro,l = tup\n",
        "  return list(map(lambda x: (fro,x),l))"
      ]
    },
    {
      "cell_type": "code",
      "execution_count": null,
      "metadata": {
        "colab": {
          "base_uri": "https://localhost:8080/"
        },
        "id": "cXvPEk9j4VvL",
        "outputId": "343968e7-a9ab-4238-c0f5-e78fa2a47694"
      },
      "outputs": [
        {
          "data": {
            "text/plain": [
              "[('rosalee.fleming@enron.com', 'jeffrey.mcclellan@enron.com'),\n",
              " ('rosalee.fleming@enron.com', 'sanjay.bhatnagar@enron.com')]"
            ]
          },
          "execution_count": 22,
          "metadata": {},
          "output_type": "execute_result"
        }
      ],
      "source": [
        "test2 = ('rosalee.fleming@enron.com',['jeffrey.mcclellan@enron.com','sanjay.bhatnagar@enron.com'])\n",
        "\n",
        "list_to_tuples(test2)"
      ]
    },
    {
      "cell_type": "code",
      "execution_count": null,
      "metadata": {
        "id": "jJZt-w0-6t_U"
      },
      "outputs": [],
      "source": [
        "#function to take a tuple of emails and return a tuple of names \n",
        "def tup_to_names(tup):\n",
        "  names = list(map(lambda x: (x.split('@')[0].split('.')),tup))\n",
        "  temp = []\n",
        "  for i in names:\n",
        "    first, last = i \n",
        "    temp.append((first.capitalize()+' '+last.capitalize()))\n",
        "  return tuple(temp)"
      ]
    },
    {
      "cell_type": "code",
      "execution_count": null,
      "metadata": {
        "colab": {
          "base_uri": "https://localhost:8080/"
        },
        "id": "CHDHQn1V7SAI",
        "outputId": "4ce444c3-937e-4030-fc6d-6d22db67f671"
      },
      "outputs": [
        {
          "data": {
            "text/plain": [
              "('Sara Shackleton', 'Tana Jones')"
            ]
          },
          "execution_count": 24,
          "metadata": {},
          "output_type": "execute_result"
        }
      ],
      "source": [
        "#testing function\n",
        "tup_to_names((('sara.shackleton@enron.com', 'tana.jones@enron.com')))"
      ]
    },
    {
      "cell_type": "code",
      "execution_count": null,
      "metadata": {
        "colab": {
          "base_uri": "https://localhost:8080/"
        },
        "id": "LQRwkoQyvaLp",
        "outputId": "5b6bfa39-93f9-4f36-8228-b95f0cc4f63d"
      },
      "outputs": [
        {
          "data": {
            "text/plain": [
              "[('Brenda Whitehead', 'Elizabeth Sager'),\n",
              " ('Carol Clair', 'Mark Taylor'),\n",
              " ('Carol Clair', 'Richard Sanders'),\n",
              " ('Carol Clair', 'Debra Perlingiere'),\n",
              " ('Carol Clair', 'Tana Jones'),\n",
              " ('Carol Clair', 'Sara Shackleton'),\n",
              " ('Debra Perlingiere', 'Kevin Ruscitti'),\n",
              " ('Drew Fossum', 'Susan Scott'),\n",
              " ('Elizabeth Sager', 'Janette Elbertson'),\n",
              " ('Elizabeth Sager', 'Richard Sanders'),\n",
              " ('Elizabeth Sager', 'Mark Taylor'),\n",
              " ('Elizabeth Sager', 'Mark Haedicke'),\n",
              " ('Eric Bass', 'Susan Scott'),\n",
              " ('Fletcher Sturm', 'Greg Whalley'),\n",
              " ('Fletcher Sturm', 'Sally Beck'),\n",
              " ('Gerald Nemec', 'Susan Scott'),\n",
              " ('Grant Masson', 'Vince Kaminski'),\n",
              " ('Greg Whalley', 'Richard Sanders'),\n",
              " ('Janette Elbertson', 'Mark Taylor'),\n",
              " ('Janette Elbertson', 'Richard Sanders'),\n",
              " ('Liz Taylor', 'Mark Haedicke'),\n",
              " ('Mark Haedicke', 'Mark Taylor'),\n",
              " ('Mark Haedicke', 'Twanda Sweet'),\n",
              " ('Mark Haedicke', 'Michelle Cash'),\n",
              " ('Mark Haedicke', 'Richard Sanders'),\n",
              " ('Mark Taylor', 'Tana Jones'),\n",
              " ('Mark Taylor', 'Sara Shackleton'),\n",
              " ('Michelle Cash', 'Twanda Sweet'),\n",
              " ('Pinnamaneni Krishnarao', 'Vince Kaminski'),\n",
              " ('Richard Sanders', 'Sara Shackleton'),\n",
              " ('Rosalee Fleming', 'Steven Kean'),\n",
              " ('Sara Shackleton', 'Tana Jones'),\n",
              " ('Shirley Crenshaw', 'Vince Kaminski'),\n",
              " ('Stinson Gibner', 'Vince Kaminski'),\n",
              " ('Vasant Shanbhogue', 'Vince Kaminski')]"
            ]
          },
          "execution_count": 25,
          "metadata": {},
          "output_type": "execute_result"
        }
      ],
      "source": [
        "# Your code to read and process data into rddTask2\n",
        "rddTask2 = enron_data.reduceByKey(lambda x,y: x+';'+y) \\\n",
        "  .mapValues(lambda x: set(x.split(';'))) \\\n",
        "  .mapValues(enron_filter) \\\n",
        "  .flatMap(list_to_tuples) \\\n",
        "  .map(lambda x: (tuple(sorted(x)),1)) \\\n",
        "  .groupByKey() \\\n",
        "  .mapValues(lambda values: sum(values)) \\\n",
        "  .filter(lambda x: x[1]>1) \\\n",
        "  .map(lambda x: tup_to_names(x[0])).sortBy(lambda x: x[0])\n",
        "\n",
        "# DO NOT EDIT BELOW\n",
        "rddTask2.collect()"
      ]
    }
  ],
  "metadata": {
    "colab": {
      "provenance": []
    },
    "kernelspec": {
      "display_name": "Python 3",
      "name": "python3"
    }
  },
  "nbformat": 4,
  "nbformat_minor": 0
}
